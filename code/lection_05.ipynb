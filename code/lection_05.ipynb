{
 "cells": [
  {
   "cell_type": "markdown",
   "id": "85c7505a",
   "metadata": {},
   "source": [
    "# Megatutorial 4: Regression\n",
    "In diesem Megatutorial wollen wir uns mit dem Thema Regression beschäftigen. Dazu werden wir unseren Datensatz wechseln. Fortan werden wir mit der bikesharing.csv arbeiten, die wir bereit in Orange kennengelernt haben.\n",
    "\n",
    "## Szenario\n",
    "Wir wurden von einem Bikesharing-Unternehmen damit beauftragt, einen historischen Datensatz zum Zweck der Erstellung eines Vorhersagemodells zu analysieren. Das Unternehmen möchte gerne die Anzahl der Verliehenen Bikes einen Tag im Vorhinein vorhersagen können. Dazu sollen Wetterdaten und Daten über den Vorhersagetag verwendet werden. Das Unternehmen kann uns folgende historische Daten zur Verfügung stellen:\n",
    "\n",
    "* ``instant``: record index\n",
    "* ``day``: day of date\n",
    "* ``season``: season (springer, summer, fall, winter)\n",
    "* ``yr``: year (2011, 2012)\n",
    "* ``mnth``: month ( 1 to 12)\n",
    "* ``hr``: hour (0 to 23)\n",
    "* ``holiday``: weather day is holiday or not (yes, no)\n",
    "* ``weekday``: day of the week (Monday, Tuesday, Wednesday, Thursday, Friday, Saturday, Sunday)\n",
    "* ``workingday``: if day is neither weekend nor holiday is 1, otherwise is 0\n",
    "* ``weathersit``: weathersituation on the current day\n",
    "* ``temp``: temperature in Celsius\n",
    "* ``atemp``: feeling temperature in Celsius\n",
    "* ``hum``: humidity\n",
    "* ``windspeed``: wind speed. The values are divided to 67 (max)\n",
    "* ``casual``: count of casual users\n",
    "* ``registered``: count of registered users\n",
    "* ``cnt``: count of total rental bikes including both casual and registered\n",
    "## Aufgaben\n",
    "* Lade die Daten in pandas.\n",
    "* Verschaffe dir einen Überblick über die Daten\n",
    "* Lade scikit-learn.\n",
    "* Entwickle zwei passende Regressionsmodelle in scikit-learn.\n",
    "* Evaluiere deine Regressionsmodelle mit Hilfe der Trainingsdaten."
   ]
  },
  {
   "cell_type": "code",
   "execution_count": 39,
   "id": "ce1f479a",
   "metadata": {},
   "outputs": [],
   "source": [
    "from pandas import read_csv\n",
    "\n",
    "# Transformer/Funktionen zur Vorverarbeitung\n",
    "from sklearn.impute import SimpleImputer\n",
    "from sklearn.preprocessing import LabelEncoder\n",
    "from sklearn.model_selection import train_test_split\n",
    "\n",
    "# Esrtimators für die Regression\n",
    "from sklearn.tree import DecisionTreeRegressor\n",
    "from sklearn.linear_model import LinearRegression\n",
    "\n",
    "# Metriken für die Regression\n",
    "from sklearn.metrics import r2_score, mean_squared_error, mean_absolute_error, root_mean_squared_error"
   ]
  },
  {
   "cell_type": "markdown",
   "id": "3783845e",
   "metadata": {},
   "source": [
    "## Daten laden"
   ]
  },
  {
   "cell_type": "code",
   "execution_count": 40,
   "id": "fe39e2d4",
   "metadata": {},
   "outputs": [],
   "source": [
    "data = read_csv(\"../data/bikesharing.csv\")"
   ]
  },
  {
   "cell_type": "code",
   "execution_count": 41,
   "id": "e30caae5",
   "metadata": {},
   "outputs": [
    {
     "data": {
      "text/plain": [
       "Unnamed: 0    False\n",
       "season        False\n",
       "holiday       False\n",
       "weekday       False\n",
       "workingday    False\n",
       "weathersit    False\n",
       "temp          False\n",
       "atemp         False\n",
       "hum            True\n",
       "windspeed     False\n",
       "casual        False\n",
       "registered    False\n",
       "cnt           False\n",
       "day           False\n",
       "month         False\n",
       "year          False\n",
       "dtype: bool"
      ]
     },
     "execution_count": 41,
     "metadata": {},
     "output_type": "execute_result"
    }
   ],
   "source": [
    "data.isna().any()"
   ]
  },
  {
   "cell_type": "markdown",
   "id": "0d32b2c4",
   "metadata": {},
   "source": [
    "# Preprocessing"
   ]
  },
  {
   "cell_type": "markdown",
   "id": "c2efb71c",
   "metadata": {},
   "source": [
    "### Fehlende Werte"
   ]
  },
  {
   "cell_type": "code",
   "execution_count": 42,
   "id": "cc4a2ea4",
   "metadata": {},
   "outputs": [],
   "source": [
    "imputer_engine = SimpleImputer(strategy=\"median\")\n",
    "data[\"hum\"] = imputer_engine.fit_transform(data[[\"hum\"]])"
   ]
  },
  {
   "cell_type": "code",
   "execution_count": 43,
   "id": "50563352",
   "metadata": {},
   "outputs": [
    {
     "name": "stdout",
     "output_type": "stream",
     "text": [
      "<class 'pandas.core.frame.DataFrame'>\n",
      "RangeIndex: 731 entries, 0 to 730\n",
      "Data columns (total 16 columns):\n",
      " #   Column      Non-Null Count  Dtype  \n",
      "---  ------      --------------  -----  \n",
      " 0   Unnamed: 0  731 non-null    int64  \n",
      " 1   season      731 non-null    object \n",
      " 2   holiday     731 non-null    object \n",
      " 3   weekday     731 non-null    object \n",
      " 4   workingday  731 non-null    object \n",
      " 5   weathersit  731 non-null    object \n",
      " 6   temp        731 non-null    float64\n",
      " 7   atemp       731 non-null    float64\n",
      " 8   hum         731 non-null    float64\n",
      " 9   windspeed   731 non-null    float64\n",
      " 10  casual      731 non-null    int64  \n",
      " 11  registered  731 non-null    int64  \n",
      " 12  cnt         731 non-null    int64  \n",
      " 13  day         731 non-null    int64  \n",
      " 14  month       731 non-null    int64  \n",
      " 15  year        731 non-null    int64  \n",
      "dtypes: float64(4), int64(7), object(5)\n",
      "memory usage: 91.5+ KB\n"
     ]
    }
   ],
   "source": [
    "data.info()"
   ]
  },
  {
   "cell_type": "markdown",
   "id": "5c946e51",
   "metadata": {},
   "source": [
    "### Target/Feature auswählen"
   ]
  },
  {
   "cell_type": "code",
   "execution_count": 44,
   "id": "5c8a5b82",
   "metadata": {},
   "outputs": [
    {
     "data": {
      "text/plain": [
       "Index(['Unnamed: 0', 'season', 'holiday', 'weekday', 'workingday',\n",
       "       'weathersit', 'temp', 'atemp', 'hum', 'windspeed', 'casual',\n",
       "       'registered', 'cnt', 'day', 'month', 'year'],\n",
       "      dtype='object')"
      ]
     },
     "execution_count": 44,
     "metadata": {},
     "output_type": "execute_result"
    }
   ],
   "source": [
    "data.columns"
   ]
  },
  {
   "cell_type": "code",
   "execution_count": 45,
   "id": "c1001cba",
   "metadata": {},
   "outputs": [],
   "source": [
    "features = [\n",
    "    'season', 'holiday', 'weekday','weathersit',\n",
    "    'temp', 'atemp', 'hum', 'windspeed', 'month'\n",
    "]\n",
    "\n",
    "target = [\n",
    "    'cnt'\n",
    "]"
   ]
  },
  {
   "cell_type": "code",
   "execution_count": 46,
   "id": "1a3b8c75",
   "metadata": {},
   "outputs": [],
   "source": [
    "X = data[features]\n",
    "y = data[target]"
   ]
  },
  {
   "cell_type": "markdown",
   "id": "f0509c79",
   "metadata": {},
   "source": [
    "## Label Encoding"
   ]
  },
  {
   "cell_type": "code",
   "execution_count": 47,
   "id": "a21dbcce",
   "metadata": {},
   "outputs": [],
   "source": [
    "season_encoder_engine = LabelEncoder()\n",
    "X.loc[:, \"season\"] = season_encoder_engine.fit_transform(X[\"season\"])\n",
    "\n",
    "holiday_encoder_engine = LabelEncoder()\n",
    "X.loc[:, \"holiday\"] = holiday_encoder_engine.fit_transform(X[\"holiday\"])\n",
    "\n",
    "weekday_encoder_engine = LabelEncoder()\n",
    "X.loc[:, \"weekday\"] = weekday_encoder_engine.fit_transform(X[\"weekday\"])\n",
    "\n",
    "weathersit_encoder_engine = LabelEncoder()\n",
    "X.loc[:, \"weathersit\"] = weathersit_encoder_engine.fit_transform(X[\"weathersit\"])"
   ]
  },
  {
   "cell_type": "markdown",
   "id": "5312cfe2",
   "metadata": {},
   "source": [
    "## Hold-Out-Resampling"
   ]
  },
  {
   "cell_type": "code",
   "execution_count": 48,
   "id": "8b7d0bf9",
   "metadata": {},
   "outputs": [],
   "source": [
    "X_train, X_test, y_train, y_test = train_test_split(X, y, test_size=0.2)"
   ]
  },
  {
   "cell_type": "markdown",
   "id": "f5ff9ad9",
   "metadata": {},
   "source": [
    "### Modeling"
   ]
  },
  {
   "cell_type": "code",
   "execution_count": 54,
   "id": "b2eb3878",
   "metadata": {},
   "outputs": [
    {
     "name": "stdout",
     "output_type": "stream",
     "text": [
      "R² 0.5341878815932997 RMSE 1308.6327290097538 MAE 1131.6930858099993\n"
     ]
    }
   ],
   "source": [
    "linear_model = LinearRegression()\n",
    "linear_model.fit(X_train, y_train)\n",
    "\n",
    "predictions = linear_model.predict(X_test)\n",
    "\n",
    "print(\n",
    "    \"R²\", r2_score(y_test, predictions),\n",
    "    \"RMSE\", root_mean_squared_error(y_test, predictions),\n",
    "    \"MAE\", mean_absolute_error(y_test, predictions)\n",
    ")\n"
   ]
  },
  {
   "cell_type": "code",
   "execution_count": 56,
   "id": "7f40c412",
   "metadata": {},
   "outputs": [
    {
     "name": "stdout",
     "output_type": "stream",
     "text": [
      "R² 0.5287973154682334 RMSE 1316.1829617144297 MAE 1071.5228154493652\n"
     ]
    }
   ],
   "source": [
    "tree_model = DecisionTreeRegressor(max_depth=5)\n",
    "tree_model.fit(X_train, y_train)\n",
    "\n",
    "predictions = tree_model.predict(X_test)\n",
    "\n",
    "print(\n",
    "    \"R²\", r2_score(y_test, predictions),\n",
    "    \"RMSE\", root_mean_squared_error(y_test, predictions),\n",
    "    \"MAE\", mean_absolute_error(y_test, predictions)\n",
    ")"
   ]
  }
 ],
 "metadata": {
  "kernelspec": {
   "display_name": "mlenv",
   "language": "python",
   "name": "python3"
  },
  "language_info": {
   "codemirror_mode": {
    "name": "ipython",
    "version": 3
   },
   "file_extension": ".py",
   "mimetype": "text/x-python",
   "name": "python",
   "nbconvert_exporter": "python",
   "pygments_lexer": "ipython3",
   "version": "3.12.1"
  }
 },
 "nbformat": 4,
 "nbformat_minor": 5
}
